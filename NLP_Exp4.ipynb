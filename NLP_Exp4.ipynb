{
  "cells": [
    {
      "cell_type": "code",
      "execution_count": 1,
      "metadata": {
        "colab": {
          "base_uri": "https://localhost:8080/"
        },
        "id": "THebyJzM2eFK",
        "outputId": "5d705483-ec4e-478a-f69c-6ac029b5ba5e"
      },
      "outputs": [
        {
          "name": "stdout",
          "output_type": "stream",
          "text": [
            "Collecting pymupdf\n",
            "  Downloading PyMuPDF-1.24.10-cp311-none-win_amd64.whl (3.2 MB)\n",
            "                                              0.0/3.2 MB ? eta -:--:--\n",
            "     ---                                      0.3/3.2 MB 6.2 MB/s eta 0:00:01\n",
            "     ------------                             1.0/3.2 MB 10.4 MB/s eta 0:00:01\n",
            "     --------------------                     1.7/3.2 MB 11.8 MB/s eta 0:00:01\n",
            "     ------------------------                 2.0/3.2 MB 12.5 MB/s eta 0:00:01\n",
            "     ------------------------------           2.4/3.2 MB 10.3 MB/s eta 0:00:01\n",
            "     -------------------------------------    3.0/3.2 MB 10.7 MB/s eta 0:00:01\n",
            "     ---------------------------------------- 3.2/3.2 MB 10.8 MB/s eta 0:00:00\n",
            "Collecting PyMuPDFb==1.24.10 (from pymupdf)\n",
            "  Downloading PyMuPDFb-1.24.10-py3-none-win_amd64.whl (13.2 MB)\n",
            "                                              0.0/13.2 MB ? eta -:--:--\n",
            "     -                                        0.6/13.2 MB 12.2 MB/s eta 0:00:02\n",
            "     ----                                     1.4/13.2 MB 15.0 MB/s eta 0:00:01\n",
            "     ------                                   2.2/13.2 MB 17.3 MB/s eta 0:00:01\n",
            "     ------                                   2.3/13.2 MB 15.9 MB/s eta 0:00:01\n",
            "     --------                                 3.0/13.2 MB 13.5 MB/s eta 0:00:01\n",
            "     ---------                                3.2/13.2 MB 12.9 MB/s eta 0:00:01\n",
            "     -----------                              3.7/13.2 MB 11.8 MB/s eta 0:00:01\n",
            "     -------------                            4.3/13.2 MB 11.9 MB/s eta 0:00:01\n",
            "     ---------------                          5.2/13.2 MB 12.7 MB/s eta 0:00:01\n",
            "     -----------------                        5.8/13.2 MB 13.3 MB/s eta 0:00:01\n",
            "     --------------------                     6.7/13.2 MB 13.4 MB/s eta 0:00:01\n",
            "     ----------------------                   7.4/13.2 MB 13.6 MB/s eta 0:00:01\n",
            "     ------------------------                 8.1/13.2 MB 13.6 MB/s eta 0:00:01\n",
            "     --------------------------               8.7/13.2 MB 13.6 MB/s eta 0:00:01\n",
            "     -----------------------------            9.6/13.2 MB 13.9 MB/s eta 0:00:01\n",
            "     ------------------------------          10.3/13.2 MB 13.9 MB/s eta 0:00:01\n",
            "     ---------------------------------       11.2/13.2 MB 14.2 MB/s eta 0:00:01\n",
            "     -----------------------------------     11.8/13.2 MB 13.9 MB/s eta 0:00:01\n",
            "     -------------------------------------   12.8/13.2 MB 15.2 MB/s eta 0:00:01\n",
            "     --------------------------------------  13.2/13.2 MB 14.9 MB/s eta 0:00:01\n",
            "     --------------------------------------- 13.2/13.2 MB 13.9 MB/s eta 0:00:00\n",
            "Installing collected packages: PyMuPDFb, pymupdf\n",
            "Successfully installed PyMuPDFb-1.24.10 pymupdf-1.24.10\n"
          ]
        },
        {
          "name": "stderr",
          "output_type": "stream",
          "text": [
            "\n",
            "[notice] A new release of pip is available: 23.1.2 -> 24.2\n",
            "[notice] To update, run: python.exe -m pip install --upgrade pip\n"
          ]
        }
      ],
      "source": [
        "!pip install pymupdf"
      ]
    },
    {
      "cell_type": "code",
      "execution_count": 2,
      "metadata": {
        "id": "PvGXskcT2roM"
      },
      "outputs": [
        {
          "ename": "OSError",
          "evalue": "[E050] Can't find model 'en_core_web_sm'. It doesn't seem to be a Python package or a valid path to a data directory.",
          "output_type": "error",
          "traceback": [
            "\u001b[1;31m---------------------------------------------------------------------------\u001b[0m",
            "\u001b[1;31mOSError\u001b[0m                                   Traceback (most recent call last)",
            "Cell \u001b[1;32mIn[2], line 5\u001b[0m\n\u001b[0;32m      2\u001b[0m \u001b[38;5;28;01mimport\u001b[39;00m \u001b[38;5;21;01mspacy\u001b[39;00m\n\u001b[0;32m      4\u001b[0m \u001b[38;5;66;03m# Load spaCy model for NLP\u001b[39;00m\n\u001b[1;32m----> 5\u001b[0m nlp \u001b[38;5;241m=\u001b[39m \u001b[43mspacy\u001b[49m\u001b[38;5;241;43m.\u001b[39;49m\u001b[43mload\u001b[49m\u001b[43m(\u001b[49m\u001b[38;5;124;43m\"\u001b[39;49m\u001b[38;5;124;43men_core_web_sm\u001b[39;49m\u001b[38;5;124;43m\"\u001b[39;49m\u001b[43m)\u001b[49m\n",
            "File \u001b[1;32mc:\\Users\\saura\\AppData\\Local\\Programs\\Python\\Python311\\Lib\\site-packages\\spacy\\__init__.py:51\u001b[0m, in \u001b[0;36mload\u001b[1;34m(name, vocab, disable, enable, exclude, config)\u001b[0m\n\u001b[0;32m     27\u001b[0m \u001b[38;5;28;01mdef\u001b[39;00m \u001b[38;5;21mload\u001b[39m(\n\u001b[0;32m     28\u001b[0m     name: Union[\u001b[38;5;28mstr\u001b[39m, Path],\n\u001b[0;32m     29\u001b[0m     \u001b[38;5;241m*\u001b[39m,\n\u001b[1;32m   (...)\u001b[0m\n\u001b[0;32m     34\u001b[0m     config: Union[Dict[\u001b[38;5;28mstr\u001b[39m, Any], Config] \u001b[38;5;241m=\u001b[39m util\u001b[38;5;241m.\u001b[39mSimpleFrozenDict(),\n\u001b[0;32m     35\u001b[0m ) \u001b[38;5;241m-\u001b[39m\u001b[38;5;241m>\u001b[39m Language:\n\u001b[0;32m     36\u001b[0m \u001b[38;5;250m    \u001b[39m\u001b[38;5;124;03m\"\"\"Load a spaCy model from an installed package or a local path.\u001b[39;00m\n\u001b[0;32m     37\u001b[0m \n\u001b[0;32m     38\u001b[0m \u001b[38;5;124;03m    name (str): Package name or model path.\u001b[39;00m\n\u001b[1;32m   (...)\u001b[0m\n\u001b[0;32m     49\u001b[0m \u001b[38;5;124;03m    RETURNS (Language): The loaded nlp object.\u001b[39;00m\n\u001b[0;32m     50\u001b[0m \u001b[38;5;124;03m    \"\"\"\u001b[39;00m\n\u001b[1;32m---> 51\u001b[0m     \u001b[38;5;28;01mreturn\u001b[39;00m \u001b[43mutil\u001b[49m\u001b[38;5;241;43m.\u001b[39;49m\u001b[43mload_model\u001b[49m\u001b[43m(\u001b[49m\n\u001b[0;32m     52\u001b[0m \u001b[43m        \u001b[49m\u001b[43mname\u001b[49m\u001b[43m,\u001b[49m\n\u001b[0;32m     53\u001b[0m \u001b[43m        \u001b[49m\u001b[43mvocab\u001b[49m\u001b[38;5;241;43m=\u001b[39;49m\u001b[43mvocab\u001b[49m\u001b[43m,\u001b[49m\n\u001b[0;32m     54\u001b[0m \u001b[43m        \u001b[49m\u001b[43mdisable\u001b[49m\u001b[38;5;241;43m=\u001b[39;49m\u001b[43mdisable\u001b[49m\u001b[43m,\u001b[49m\n\u001b[0;32m     55\u001b[0m \u001b[43m        \u001b[49m\u001b[43menable\u001b[49m\u001b[38;5;241;43m=\u001b[39;49m\u001b[43menable\u001b[49m\u001b[43m,\u001b[49m\n\u001b[0;32m     56\u001b[0m \u001b[43m        \u001b[49m\u001b[43mexclude\u001b[49m\u001b[38;5;241;43m=\u001b[39;49m\u001b[43mexclude\u001b[49m\u001b[43m,\u001b[49m\n\u001b[0;32m     57\u001b[0m \u001b[43m        \u001b[49m\u001b[43mconfig\u001b[49m\u001b[38;5;241;43m=\u001b[39;49m\u001b[43mconfig\u001b[49m\u001b[43m,\u001b[49m\n\u001b[0;32m     58\u001b[0m \u001b[43m    \u001b[49m\u001b[43m)\u001b[49m\n",
            "File \u001b[1;32mc:\\Users\\saura\\AppData\\Local\\Programs\\Python\\Python311\\Lib\\site-packages\\spacy\\util.py:472\u001b[0m, in \u001b[0;36mload_model\u001b[1;34m(name, vocab, disable, enable, exclude, config)\u001b[0m\n\u001b[0;32m    470\u001b[0m \u001b[38;5;28;01mif\u001b[39;00m name \u001b[38;5;129;01min\u001b[39;00m OLD_MODEL_SHORTCUTS:\n\u001b[0;32m    471\u001b[0m     \u001b[38;5;28;01mraise\u001b[39;00m \u001b[38;5;167;01mIOError\u001b[39;00m(Errors\u001b[38;5;241m.\u001b[39mE941\u001b[38;5;241m.\u001b[39mformat(name\u001b[38;5;241m=\u001b[39mname, full\u001b[38;5;241m=\u001b[39mOLD_MODEL_SHORTCUTS[name]))  \u001b[38;5;66;03m# type: ignore[index]\u001b[39;00m\n\u001b[1;32m--> 472\u001b[0m \u001b[38;5;28;01mraise\u001b[39;00m \u001b[38;5;167;01mIOError\u001b[39;00m(Errors\u001b[38;5;241m.\u001b[39mE050\u001b[38;5;241m.\u001b[39mformat(name\u001b[38;5;241m=\u001b[39mname))\n",
            "\u001b[1;31mOSError\u001b[0m: [E050] Can't find model 'en_core_web_sm'. It doesn't seem to be a Python package or a valid path to a data directory."
          ]
        }
      ],
      "source": [
        "import fitz\n",
        "import spacy\n",
        "\n",
        "# Load spaCy model for NLP\n",
        "nlp = spacy.load(\"en_core_web_sm\")"
      ]
    },
    {
      "cell_type": "code",
      "execution_count": 12,
      "metadata": {
        "colab": {
          "base_uri": "https://localhost:8080/",
          "height": 90
        },
        "id": "xiZgIzZ63zI_",
        "outputId": "753c1f02-444f-4d5c-d22c-ad97e93bdbc9"
      },
      "outputs": [
        {
          "data": {
            "text/html": [
              "\n",
              "     <input type=\"file\" id=\"files-885fc6bf-35c2-4bf1-96ee-d2d9dc32d780\" name=\"files[]\" multiple disabled\n",
              "        style=\"border:none\" />\n",
              "     <output id=\"result-885fc6bf-35c2-4bf1-96ee-d2d9dc32d780\">\n",
              "      Upload widget is only available when the cell has been executed in the\n",
              "      current browser session. Please rerun this cell to enable.\n",
              "      </output>\n",
              "      <script>// Copyright 2017 Google LLC\n",
              "//\n",
              "// Licensed under the Apache License, Version 2.0 (the \"License\");\n",
              "// you may not use this file except in compliance with the License.\n",
              "// You may obtain a copy of the License at\n",
              "//\n",
              "//      http://www.apache.org/licenses/LICENSE-2.0\n",
              "//\n",
              "// Unless required by applicable law or agreed to in writing, software\n",
              "// distributed under the License is distributed on an \"AS IS\" BASIS,\n",
              "// WITHOUT WARRANTIES OR CONDITIONS OF ANY KIND, either express or implied.\n",
              "// See the License for the specific language governing permissions and\n",
              "// limitations under the License.\n",
              "\n",
              "/**\n",
              " * @fileoverview Helpers for google.colab Python module.\n",
              " */\n",
              "(function(scope) {\n",
              "function span(text, styleAttributes = {}) {\n",
              "  const element = document.createElement('span');\n",
              "  element.textContent = text;\n",
              "  for (const key of Object.keys(styleAttributes)) {\n",
              "    element.style[key] = styleAttributes[key];\n",
              "  }\n",
              "  return element;\n",
              "}\n",
              "\n",
              "// Max number of bytes which will be uploaded at a time.\n",
              "const MAX_PAYLOAD_SIZE = 100 * 1024;\n",
              "\n",
              "function _uploadFiles(inputId, outputId) {\n",
              "  const steps = uploadFilesStep(inputId, outputId);\n",
              "  const outputElement = document.getElementById(outputId);\n",
              "  // Cache steps on the outputElement to make it available for the next call\n",
              "  // to uploadFilesContinue from Python.\n",
              "  outputElement.steps = steps;\n",
              "\n",
              "  return _uploadFilesContinue(outputId);\n",
              "}\n",
              "\n",
              "// This is roughly an async generator (not supported in the browser yet),\n",
              "// where there are multiple asynchronous steps and the Python side is going\n",
              "// to poll for completion of each step.\n",
              "// This uses a Promise to block the python side on completion of each step,\n",
              "// then passes the result of the previous step as the input to the next step.\n",
              "function _uploadFilesContinue(outputId) {\n",
              "  const outputElement = document.getElementById(outputId);\n",
              "  const steps = outputElement.steps;\n",
              "\n",
              "  const next = steps.next(outputElement.lastPromiseValue);\n",
              "  return Promise.resolve(next.value.promise).then((value) => {\n",
              "    // Cache the last promise value to make it available to the next\n",
              "    // step of the generator.\n",
              "    outputElement.lastPromiseValue = value;\n",
              "    return next.value.response;\n",
              "  });\n",
              "}\n",
              "\n",
              "/**\n",
              " * Generator function which is called between each async step of the upload\n",
              " * process.\n",
              " * @param {string} inputId Element ID of the input file picker element.\n",
              " * @param {string} outputId Element ID of the output display.\n",
              " * @return {!Iterable<!Object>} Iterable of next steps.\n",
              " */\n",
              "function* uploadFilesStep(inputId, outputId) {\n",
              "  const inputElement = document.getElementById(inputId);\n",
              "  inputElement.disabled = false;\n",
              "\n",
              "  const outputElement = document.getElementById(outputId);\n",
              "  outputElement.innerHTML = '';\n",
              "\n",
              "  const pickedPromise = new Promise((resolve) => {\n",
              "    inputElement.addEventListener('change', (e) => {\n",
              "      resolve(e.target.files);\n",
              "    });\n",
              "  });\n",
              "\n",
              "  const cancel = document.createElement('button');\n",
              "  inputElement.parentElement.appendChild(cancel);\n",
              "  cancel.textContent = 'Cancel upload';\n",
              "  const cancelPromise = new Promise((resolve) => {\n",
              "    cancel.onclick = () => {\n",
              "      resolve(null);\n",
              "    };\n",
              "  });\n",
              "\n",
              "  // Wait for the user to pick the files.\n",
              "  const files = yield {\n",
              "    promise: Promise.race([pickedPromise, cancelPromise]),\n",
              "    response: {\n",
              "      action: 'starting',\n",
              "    }\n",
              "  };\n",
              "\n",
              "  cancel.remove();\n",
              "\n",
              "  // Disable the input element since further picks are not allowed.\n",
              "  inputElement.disabled = true;\n",
              "\n",
              "  if (!files) {\n",
              "    return {\n",
              "      response: {\n",
              "        action: 'complete',\n",
              "      }\n",
              "    };\n",
              "  }\n",
              "\n",
              "  for (const file of files) {\n",
              "    const li = document.createElement('li');\n",
              "    li.append(span(file.name, {fontWeight: 'bold'}));\n",
              "    li.append(span(\n",
              "        `(${file.type || 'n/a'}) - ${file.size} bytes, ` +\n",
              "        `last modified: ${\n",
              "            file.lastModifiedDate ? file.lastModifiedDate.toLocaleDateString() :\n",
              "                                    'n/a'} - `));\n",
              "    const percent = span('0% done');\n",
              "    li.appendChild(percent);\n",
              "\n",
              "    outputElement.appendChild(li);\n",
              "\n",
              "    const fileDataPromise = new Promise((resolve) => {\n",
              "      const reader = new FileReader();\n",
              "      reader.onload = (e) => {\n",
              "        resolve(e.target.result);\n",
              "      };\n",
              "      reader.readAsArrayBuffer(file);\n",
              "    });\n",
              "    // Wait for the data to be ready.\n",
              "    let fileData = yield {\n",
              "      promise: fileDataPromise,\n",
              "      response: {\n",
              "        action: 'continue',\n",
              "      }\n",
              "    };\n",
              "\n",
              "    // Use a chunked sending to avoid message size limits. See b/62115660.\n",
              "    let position = 0;\n",
              "    do {\n",
              "      const length = Math.min(fileData.byteLength - position, MAX_PAYLOAD_SIZE);\n",
              "      const chunk = new Uint8Array(fileData, position, length);\n",
              "      position += length;\n",
              "\n",
              "      const base64 = btoa(String.fromCharCode.apply(null, chunk));\n",
              "      yield {\n",
              "        response: {\n",
              "          action: 'append',\n",
              "          file: file.name,\n",
              "          data: base64,\n",
              "        },\n",
              "      };\n",
              "\n",
              "      let percentDone = fileData.byteLength === 0 ?\n",
              "          100 :\n",
              "          Math.round((position / fileData.byteLength) * 100);\n",
              "      percent.textContent = `${percentDone}% done`;\n",
              "\n",
              "    } while (position < fileData.byteLength);\n",
              "  }\n",
              "\n",
              "  // All done.\n",
              "  yield {\n",
              "    response: {\n",
              "      action: 'complete',\n",
              "    }\n",
              "  };\n",
              "}\n",
              "\n",
              "scope.google = scope.google || {};\n",
              "scope.google.colab = scope.google.colab || {};\n",
              "scope.google.colab._files = {\n",
              "  _uploadFiles,\n",
              "  _uploadFilesContinue,\n",
              "};\n",
              "})(self);\n",
              "</script> "
            ],
            "text/plain": [
              "<IPython.core.display.HTML object>"
            ]
          },
          "metadata": {},
          "output_type": "display_data"
        },
        {
          "name": "stdout",
          "output_type": "stream",
          "text": [
            "Saving Chaitanya_Mandale_Resume.pdf to Chaitanya_Mandale_Resume.pdf\n",
            "User uploaded file \"Chaitanya_Mandale_Resume.pdf\" with length 120821 bytes\n"
          ]
        }
      ],
      "source": [
        "from google.colab import files\n",
        "uploaded = files.upload()\n",
        "for fn in uploaded.keys():\n",
        "  print('User uploaded file \"{name}\" with length {length} bytes'.format(\n",
        "      name=fn, length=len(uploaded[fn])))"
      ]
    },
    {
      "cell_type": "code",
      "execution_count": 3,
      "metadata": {
        "id": "E2E6lgeR2rk9"
      },
      "outputs": [],
      "source": [
        "# List of relevant technical skills\n",
        "skills_list = [\n",
        "    \"JavaScript\", \"Solidity\", \"C++\", \"Python\", \"React\", \"Next.js\", \"Node.js\", \"Prisma\",\n",
        "    \"Ganache\", \"Docker\", \"Kubernetes\", \"AWS\", \"Kafka\", \"Monorepos\", \"Ethereum\",\n",
        "    \"PostgreSQL\", \"MongoDB\", \"SQL\", \"Git\", \"Cloud Computing\", \"DevOps\",\n",
        "    \"Agile Methodology\", \"HTML\", \"CSS\", \"TypeScript\", \"GraphQL\", \"REST APIs\",\n",
        "    \"Jenkins\", \"CircleCI\", \"Terraform\", \"Ansible\", \"Redis\", \"Prometheus\",\n",
        "    \"Grafana\", \"WebSockets\", \"gRPC\", \"WebRTC\", \"Jest\", \"Mocha\", \"Truffle\",\n",
        "    \"Hardhat\", \"Azure\", \"Google Cloud Platform (GCP)\"\n",
        "]"
      ]
    },
    {
      "cell_type": "code",
      "execution_count": 4,
      "metadata": {
        "id": "JyTuYPmv2rgp"
      },
      "outputs": [],
      "source": [
        "# Function to extract text from PDF\n",
        "def extract_text_from_pdf(pdf_path):\n",
        "    with fitz.open(pdf_path) as pdf_doc:\n",
        "        text = \"\"\n",
        "        for page_num in range(pdf_doc.page_count):\n",
        "            page = pdf_doc.load_page(page_num)\n",
        "            text += page.get_text()\n",
        "    return text"
      ]
    },
    {
      "cell_type": "code",
      "execution_count": 5,
      "metadata": {
        "id": "fw5D-Jt42rdb"
      },
      "outputs": [],
      "source": [
        "# Function to extract the name\n",
        "def extract_name(doc):\n",
        "    for ent in doc.ents:\n",
        "        if ent.label_ == \"PERSON\":\n",
        "            return ent.text\n",
        "    return \"Name not found\""
      ]
    },
    {
      "cell_type": "code",
      "execution_count": 6,
      "metadata": {
        "id": "QKhZCSlg2rWx"
      },
      "outputs": [],
      "source": [
        "# Function to extract skills from text\n",
        "def extract_skills(text):\n",
        "    skills_found = []\n",
        "    text_lower = text.lower()\n",
        "    for skill in skills_list:\n",
        "        if skill.lower() in text_lower:\n",
        "            skills_found.append(skill)\n",
        "    return skills_found"
      ]
    },
    {
      "cell_type": "code",
      "execution_count": 7,
      "metadata": {
        "id": "Kc2HfNxM2rT-"
      },
      "outputs": [],
      "source": [
        "# Function to extract experience\n",
        "def extract_experience(text):\n",
        "    lines = text.split(\"\\n\")\n",
        "    experience_titles = []\n",
        "    in_section = False\n",
        "\n",
        "    for i, line in enumerate(lines):\n",
        "        line = line.strip()\n",
        "        if any(term in line.lower() for term in [\"projects\", \"courses\", \"work\"]):\n",
        "            in_section = True\n",
        "            continue\n",
        "\n",
        "        if in_section:\n",
        "            if \"|\" in line:  # Experience usually have the format: TITLE | Description\n",
        "                title = line.split(\"|\")[0].strip()\n",
        "                experience_titles.append(title)\n",
        "            elif line.startswith(\"•\"):  # Bullet point\n",
        "                title = line[1:].strip()  # Remove bullet point\n",
        "                experience_titles.append(title)\n",
        "\n",
        "    return experience_titles\n"
      ]
    },
    {
      "cell_type": "code",
      "execution_count": 9,
      "metadata": {
        "id": "MN5ttQYp2q01"
      },
      "outputs": [],
      "source": [
        "def extract_resume_info(pdf_path):\n",
        "    # Extract text from PDF\n",
        "    resume_text = extract_text_from_pdf(pdf_path)\n",
        "\n",
        "    # Process text with spaCy NLP\n",
        "    doc = nlp(resume_text)\n",
        "\n",
        "    # Extract relevant info\n",
        "    name = extract_name(doc)\n",
        "    skills = extract_skills(resume_text)\n",
        "    experience = extract_experience(resume_text)\n",
        "\n",
        "    return {\n",
        "        \"Name\": name,\n",
        "        \"Skills\": skills,\n",
        "        \"Experience\": experience\n",
        "    }"
      ]
    },
    {
      "cell_type": "code",
      "execution_count": 16,
      "metadata": {
        "colab": {
          "base_uri": "https://localhost:8080/"
        },
        "id": "HnmNspMA3Tai",
        "outputId": "8e1b6606-4038-4f09-ca37-99852423aedd"
      },
      "outputs": [
        {
          "name": "stdout",
          "output_type": "stream",
          "text": [
            "Name: Chaitanya Mandale\n",
            "\n",
            "\n",
            "\n",
            "Skills: JavaScript, Solidity, C++, React, Next.js, Node.js, Prisma, Ganache, Docker, Kubernetes, AWS, Kafka, Monorepos, Ethereum, PostgreSQL, MongoDB, SQL, Git, DevOps, HTML, CSS, TypeScript, Redis, Prometheus, Grafana, WebSockets, gRPC, WebRTC\n",
            "\n",
            "\n",
            "\n",
            "Experience:\n",
            " EXCHANGIFY\n",
            "Developed a scalable, real-time asset exchange platform using modern web technologies and distributed systems\n",
            "Designed for high throughput and low latency, achieving sub-10 ms order processing times.\n",
            "Ensured data consistency across real-time updates and database persistence.\n",
            "Implemented a 6-core-services microservices architecture for improved scalability and fault tolerance.\n",
            "JOBIFY\n",
            "Developed a comprehensive job application management system using the MERN (MongoDB, Express.js, React,\n",
            "Achieved secure user authentication and authorization for personalized tracking of job applications.\n",
            "Designed an intuitive user interface with features including pagination, data visualization (bar and area charts), and\n",
            "Built eﬃcient server state management, reducing database calls by up to 60% through smart caching; accomplished\n",
            "The Complete 2023 Web Development Bootcamp By Angela Yu\n",
            "Acquired foundational web development skills, including HTML, CSS, JavaScript.\n",
            "Ethereum Blockchain Developer Bootcamp With Solidity By Thomas Weisner\n",
            "Mastered Ethereum smart contract development with Solidity, including blockchain fundamentals and dApp\n",
            "Gained proﬁciency in blockchain tools: Truﬄe for contract deployment and Ganache for local Ethereum testing.\n",
            "Technical Writing\n",
            "Authored article on blockchain account abstraction for ‘Byte’, the Computer Engineering department’s newsletter\n"
          ]
        }
      ],
      "source": [
        "pdf_path = \"/content/Chaitanya_Mandale_Resume.pdf\"\n",
        "resume_info = extract_resume_info(pdf_path)\n",
        "print(\"Name:\", resume_info[\"Name\"])\n",
        "print(\"\\n\\n\")\n",
        "print(\"Skills:\", \", \".join(resume_info[\"Skills\"]))\n",
        "print(\"\\n\\n\")\n",
        "print(\"Experience:\\n\", \"\\n\".join(resume_info[\"Experience\"]))\n"
      ]
    }
  ],
  "metadata": {
    "colab": {
      "provenance": []
    },
    "kernelspec": {
      "display_name": "Python 3",
      "name": "python3"
    },
    "language_info": {
      "codemirror_mode": {
        "name": "ipython",
        "version": 3
      },
      "file_extension": ".py",
      "mimetype": "text/x-python",
      "name": "python",
      "nbconvert_exporter": "python",
      "pygments_lexer": "ipython3",
      "version": "3.11.1"
    }
  },
  "nbformat": 4,
  "nbformat_minor": 0
}
