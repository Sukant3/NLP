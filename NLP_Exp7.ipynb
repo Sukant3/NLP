{
  "nbformat": 4,
  "nbformat_minor": 0,
  "metadata": {
    "colab": {
      "provenance": []
    },
    "kernelspec": {
      "name": "python3",
      "display_name": "Python 3"
    },
    "language_info": {
      "name": "python"
    }
  },
  "cells": [
    {
      "cell_type": "code",
      "source": [
        "import nltk\n",
        "nltk.download('brown')\n",
        "from nltk.corpus import brown"
      ],
      "metadata": {
        "colab": {
          "base_uri": "https://localhost:8080/"
        },
        "id": "oY7zIq-bpuQ6",
        "outputId": "1448900e-1db9-4894-de08-e82cc31325c9"
      },
      "execution_count": 1,
      "outputs": [
        {
          "output_type": "stream",
          "name": "stderr",
          "text": [
            "[nltk_data] Downloading package brown to /root/nltk_data...\n",
            "[nltk_data]   Unzipping corpora/brown.zip.\n"
          ]
        },
        {
          "output_type": "execute_result",
          "data": {
            "text/plain": [
              "True"
            ]
          },
          "metadata": {},
          "execution_count": 1
        }
      ]
    },
    {
      "cell_type": "code",
      "execution_count": 7,
      "metadata": {
        "colab": {
          "base_uri": "https://localhost:8080/"
        },
        "id": "5J5Pldt0oTHh",
        "outputId": "3005cf06-9d0f-48a0-8ed5-a55e9581d2ab"
      },
      "outputs": [
        {
          "output_type": "stream",
          "name": "stdout",
          "text": [
            "Categories in Brown Corpus:\n",
            "adventure\n",
            "belles_lettres\n",
            "editorial\n",
            "fiction\n",
            "government\n",
            "hobbies\n",
            "humor\n",
            "learned\n",
            "lore\n",
            "mystery\n",
            "news\n",
            "religion\n",
            "reviews\n",
            "romance\n",
            "science_fiction\n",
            "Number of sentences in Science Fiction Category: 948\n"
          ]
        }
      ],
      "source": [
        "categories = brown.categories()\n",
        "print(\"Categories in Brown Corpus:\")\n",
        "for i in categories:\n",
        "    print(i)\n",
        "\n",
        "science_fiction = brown.sents(categories = 'science_fiction')\n",
        "print(\"Number of sentences in Science Fiction Category:\", len(science_fiction))"
      ]
    }
  ]
}